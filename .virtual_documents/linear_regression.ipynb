get_ipython().run_line_magic("matplotlib", " widget")


import math, copy
import numpy as np
import matplotlib.pyplot as plt


# Load our data set
x_train = np.array([1.0, 2.0])   # features
y_train = np.array([300.0, 500.0])   # target value


plt.plot(x_train, y_train)


def cal_value(w, b, x):
    return w * x + b


def compute_cost(w, b, x, y):
    sum_cost = 0
    for i in range(0, len(x)):
        sum_cost += (cal_value(w, b, x[i]) - y[i])
    return sum_cost


def gradient_descent(a, w, b, x, y):
    sum_gw = 0
    sum_gb = 0

    for i in range(len(x)):
        diff = cal_value(w, b, x[i]) - y[i]
        sum_gw += diff * x[i]
        sum_gb += diff

    w_next = w - a * sum_gw / len(x)
    b_next = b - a * sum_gb / len(x)

    return w_next, b_next


iteration = 10000
a = 1.0e-2
w = 0
b = 0
for i in range(iteration):
    w, b = gradient_descent(a, w, b, x_train, y_train)
    cost = compute_cost(w, b, x_train, y_train)
    if i % math.ceil(iteration/10) == 0:
        print(f"iter={i}, w={w}, b={b}, cost={cost}")






